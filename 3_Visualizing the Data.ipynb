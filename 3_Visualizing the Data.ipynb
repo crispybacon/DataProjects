{
 "cells": [
  {
   "cell_type": "markdown",
   "metadata": {},
   "source": [
    "# Visualizing the Data"
   ]
  },
  {
   "cell_type": "code",
   "execution_count": 2,
   "metadata": {},
   "outputs": [],
   "source": [
    "import numpy as np\n",
    "import pandas as pd\n",
    "import matplotlib.pyplot as plt"
   ]
  },
  {
   "cell_type": "code",
   "execution_count": 3,
   "metadata": {},
   "outputs": [],
   "source": [
    "%matplotlib inline"
   ]
  },
  {
   "cell_type": "code",
   "execution_count": 4,
   "metadata": {},
   "outputs": [],
   "source": [
    "df = pd.read_csv('thads2013n.txt')"
   ]
  },
  {
   "cell_type": "code",
   "execution_count": 5,
   "metadata": {},
   "outputs": [
    {
     "data": {
      "text/plain": [
       "(64535, 99)"
      ]
     },
     "execution_count": 5,
     "metadata": {},
     "output_type": "execute_result"
    }
   ],
   "source": [
    "df.shape"
   ]
  },
  {
   "cell_type": "code",
   "execution_count": 6,
   "metadata": {},
   "outputs": [
    {
     "data": {
      "text/html": [
       "<div>\n",
       "<table border=\"1\" class=\"dataframe\">\n",
       "  <thead>\n",
       "    <tr style=\"text-align: right;\">\n",
       "      <th></th>\n",
       "      <th>AGE1</th>\n",
       "      <th>LMED</th>\n",
       "      <th>FMR</th>\n",
       "      <th>L30</th>\n",
       "      <th>L50</th>\n",
       "      <th>L80</th>\n",
       "      <th>IPOV</th>\n",
       "      <th>BEDRMS</th>\n",
       "      <th>BUILT</th>\n",
       "      <th>TYPE</th>\n",
       "      <th>...</th>\n",
       "      <th>COST12RELPOVPCT</th>\n",
       "      <th>COST12RELPOVCAT</th>\n",
       "      <th>COST12RELFMRPCT</th>\n",
       "      <th>COST12RELFMRCAT</th>\n",
       "      <th>COSTMedRELAMIPCT</th>\n",
       "      <th>COSTMedRELAMICAT</th>\n",
       "      <th>COSTMedRELPOVPCT</th>\n",
       "      <th>COSTMedRELPOVCAT</th>\n",
       "      <th>COSTMedRELFMRPCT</th>\n",
       "      <th>COSTMedRELFMRCAT</th>\n",
       "    </tr>\n",
       "  </thead>\n",
       "  <tbody>\n",
       "    <tr>\n",
       "      <th>count</th>\n",
       "      <td>64535.000000</td>\n",
       "      <td>64535.000000</td>\n",
       "      <td>64535.000000</td>\n",
       "      <td>64535.000000</td>\n",
       "      <td>64535.000000</td>\n",
       "      <td>64535.000000</td>\n",
       "      <td>64535.000000</td>\n",
       "      <td>64535.000000</td>\n",
       "      <td>64535.000000</td>\n",
       "      <td>64535.000000</td>\n",
       "      <td>...</td>\n",
       "      <td>64535.000000</td>\n",
       "      <td>64535.000000</td>\n",
       "      <td>64535.000000</td>\n",
       "      <td>64535.000000</td>\n",
       "      <td>64535.000000</td>\n",
       "      <td>64535.000000</td>\n",
       "      <td>64535.000000</td>\n",
       "      <td>64535.000000</td>\n",
       "      <td>64535.000000</td>\n",
       "      <td>64535.000000</td>\n",
       "    </tr>\n",
       "    <tr>\n",
       "      <th>mean</th>\n",
       "      <td>47.968932</td>\n",
       "      <td>68109.744309</td>\n",
       "      <td>1164.395181</td>\n",
       "      <td>17712.125436</td>\n",
       "      <td>29511.032076</td>\n",
       "      <td>46207.567630</td>\n",
       "      <td>15986.664229</td>\n",
       "      <td>2.660308</td>\n",
       "      <td>1966.432835</td>\n",
       "      <td>1.065360</td>\n",
       "      <td>...</td>\n",
       "      <td>481.123050</td>\n",
       "      <td>2.574758</td>\n",
       "      <td>165.983691</td>\n",
       "      <td>2.488990</td>\n",
       "      <td>80.661251</td>\n",
       "      <td>3.770900</td>\n",
       "      <td>324.761274</td>\n",
       "      <td>2.450376</td>\n",
       "      <td>115.830454</td>\n",
       "      <td>2.328922</td>\n",
       "    </tr>\n",
       "    <tr>\n",
       "      <th>std</th>\n",
       "      <td>22.869374</td>\n",
       "      <td>12371.177175</td>\n",
       "      <td>394.119188</td>\n",
       "      <td>4441.564491</td>\n",
       "      <td>7407.012410</td>\n",
       "      <td>10640.616965</td>\n",
       "      <td>7219.688394</td>\n",
       "      <td>1.093778</td>\n",
       "      <td>26.304726</td>\n",
       "      <td>0.459341</td>\n",
       "      <td>...</td>\n",
       "      <td>648.790025</td>\n",
       "      <td>3.294774</td>\n",
       "      <td>168.183589</td>\n",
       "      <td>0.713639</td>\n",
       "      <td>75.058303</td>\n",
       "      <td>1.975262</td>\n",
       "      <td>375.384088</td>\n",
       "      <td>3.276692</td>\n",
       "      <td>97.841114</td>\n",
       "      <td>0.726540</td>\n",
       "    </tr>\n",
       "    <tr>\n",
       "      <th>min</th>\n",
       "      <td>-9.000000</td>\n",
       "      <td>38500.000000</td>\n",
       "      <td>394.000000</td>\n",
       "      <td>10257.000000</td>\n",
       "      <td>17057.000000</td>\n",
       "      <td>27307.000000</td>\n",
       "      <td>-6.000000</td>\n",
       "      <td>0.000000</td>\n",
       "      <td>1919.000000</td>\n",
       "      <td>1.000000</td>\n",
       "      <td>...</td>\n",
       "      <td>-9.000000</td>\n",
       "      <td>-9.000000</td>\n",
       "      <td>0.000000</td>\n",
       "      <td>1.000000</td>\n",
       "      <td>0.000000</td>\n",
       "      <td>1.000000</td>\n",
       "      <td>-9.000000</td>\n",
       "      <td>-9.000000</td>\n",
       "      <td>0.000000</td>\n",
       "      <td>1.000000</td>\n",
       "    </tr>\n",
       "    <tr>\n",
       "      <th>25%</th>\n",
       "      <td>35.000000</td>\n",
       "      <td>60300.000000</td>\n",
       "      <td>888.000000</td>\n",
       "      <td>14449.000000</td>\n",
       "      <td>24050.000000</td>\n",
       "      <td>38150.000000</td>\n",
       "      <td>12019.000000</td>\n",
       "      <td>2.000000</td>\n",
       "      <td>1950.000000</td>\n",
       "      <td>1.000000</td>\n",
       "      <td>...</td>\n",
       "      <td>155.065135</td>\n",
       "      <td>3.000000</td>\n",
       "      <td>78.760563</td>\n",
       "      <td>2.000000</td>\n",
       "      <td>43.597884</td>\n",
       "      <td>2.000000</td>\n",
       "      <td>136.580770</td>\n",
       "      <td>2.000000</td>\n",
       "      <td>67.620731</td>\n",
       "      <td>2.000000</td>\n",
       "    </tr>\n",
       "    <tr>\n",
       "      <th>50%</th>\n",
       "      <td>50.000000</td>\n",
       "      <td>64600.000000</td>\n",
       "      <td>1100.000000</td>\n",
       "      <td>16829.000000</td>\n",
       "      <td>28053.000000</td>\n",
       "      <td>44605.000000</td>\n",
       "      <td>15452.000000</td>\n",
       "      <td>3.000000</td>\n",
       "      <td>1970.000000</td>\n",
       "      <td>1.000000</td>\n",
       "      <td>...</td>\n",
       "      <td>308.246798</td>\n",
       "      <td>4.000000</td>\n",
       "      <td>122.699387</td>\n",
       "      <td>3.000000</td>\n",
       "      <td>64.724154</td>\n",
       "      <td>4.000000</td>\n",
       "      <td>240.498939</td>\n",
       "      <td>4.000000</td>\n",
       "      <td>97.930142</td>\n",
       "      <td>2.000000</td>\n",
       "    </tr>\n",
       "    <tr>\n",
       "      <th>75%</th>\n",
       "      <td>64.000000</td>\n",
       "      <td>74008.000000</td>\n",
       "      <td>1390.000000</td>\n",
       "      <td>20011.000000</td>\n",
       "      <td>33334.000000</td>\n",
       "      <td>52086.000000</td>\n",
       "      <td>18612.000000</td>\n",
       "      <td>3.000000</td>\n",
       "      <td>1985.000000</td>\n",
       "      <td>1.000000</td>\n",
       "      <td>...</td>\n",
       "      <td>596.378735</td>\n",
       "      <td>4.000000</td>\n",
       "      <td>206.979921</td>\n",
       "      <td>3.000000</td>\n",
       "      <td>95.516505</td>\n",
       "      <td>5.000000</td>\n",
       "      <td>398.416412</td>\n",
       "      <td>4.000000</td>\n",
       "      <td>137.769350</td>\n",
       "      <td>3.000000</td>\n",
       "    </tr>\n",
       "    <tr>\n",
       "      <th>max</th>\n",
       "      <td>93.000000</td>\n",
       "      <td>115300.000000</td>\n",
       "      <td>3511.000000</td>\n",
       "      <td>42550.000000</td>\n",
       "      <td>70850.000000</td>\n",
       "      <td>111450.000000</td>\n",
       "      <td>51635.000000</td>\n",
       "      <td>7.000000</td>\n",
       "      <td>2013.000000</td>\n",
       "      <td>9.000000</td>\n",
       "      <td>...</td>\n",
       "      <td>10336.261088</td>\n",
       "      <td>4.000000</td>\n",
       "      <td>3419.544546</td>\n",
       "      <td>3.000000</td>\n",
       "      <td>1296.983943</td>\n",
       "      <td>7.000000</td>\n",
       "      <td>6057.843858</td>\n",
       "      <td>4.000000</td>\n",
       "      <td>1928.699349</td>\n",
       "      <td>3.000000</td>\n",
       "    </tr>\n",
       "  </tbody>\n",
       "</table>\n",
       "<p>8 rows × 67 columns</p>\n",
       "</div>"
      ],
      "text/plain": [
       "               AGE1           LMED           FMR           L30           L50  \\\n",
       "count  64535.000000   64535.000000  64535.000000  64535.000000  64535.000000   \n",
       "mean      47.968932   68109.744309   1164.395181  17712.125436  29511.032076   \n",
       "std       22.869374   12371.177175    394.119188   4441.564491   7407.012410   \n",
       "min       -9.000000   38500.000000    394.000000  10257.000000  17057.000000   \n",
       "25%       35.000000   60300.000000    888.000000  14449.000000  24050.000000   \n",
       "50%       50.000000   64600.000000   1100.000000  16829.000000  28053.000000   \n",
       "75%       64.000000   74008.000000   1390.000000  20011.000000  33334.000000   \n",
       "max       93.000000  115300.000000   3511.000000  42550.000000  70850.000000   \n",
       "\n",
       "                 L80          IPOV        BEDRMS         BUILT          TYPE  \\\n",
       "count   64535.000000  64535.000000  64535.000000  64535.000000  64535.000000   \n",
       "mean    46207.567630  15986.664229      2.660308   1966.432835      1.065360   \n",
       "std     10640.616965   7219.688394      1.093778     26.304726      0.459341   \n",
       "min     27307.000000     -6.000000      0.000000   1919.000000      1.000000   \n",
       "25%     38150.000000  12019.000000      2.000000   1950.000000      1.000000   \n",
       "50%     44605.000000  15452.000000      3.000000   1970.000000      1.000000   \n",
       "75%     52086.000000  18612.000000      3.000000   1985.000000      1.000000   \n",
       "max    111450.000000  51635.000000      7.000000   2013.000000      9.000000   \n",
       "\n",
       "             ...         COST12RELPOVPCT  COST12RELPOVCAT  COST12RELFMRPCT  \\\n",
       "count        ...            64535.000000     64535.000000     64535.000000   \n",
       "mean         ...              481.123050         2.574758       165.983691   \n",
       "std          ...              648.790025         3.294774       168.183589   \n",
       "min          ...               -9.000000        -9.000000         0.000000   \n",
       "25%          ...              155.065135         3.000000        78.760563   \n",
       "50%          ...              308.246798         4.000000       122.699387   \n",
       "75%          ...              596.378735         4.000000       206.979921   \n",
       "max          ...            10336.261088         4.000000      3419.544546   \n",
       "\n",
       "       COST12RELFMRCAT  COSTMedRELAMIPCT  COSTMedRELAMICAT  COSTMedRELPOVPCT  \\\n",
       "count     64535.000000      64535.000000      64535.000000      64535.000000   \n",
       "mean          2.488990         80.661251          3.770900        324.761274   \n",
       "std           0.713639         75.058303          1.975262        375.384088   \n",
       "min           1.000000          0.000000          1.000000         -9.000000   \n",
       "25%           2.000000         43.597884          2.000000        136.580770   \n",
       "50%           3.000000         64.724154          4.000000        240.498939   \n",
       "75%           3.000000         95.516505          5.000000        398.416412   \n",
       "max           3.000000       1296.983943          7.000000       6057.843858   \n",
       "\n",
       "       COSTMedRELPOVCAT  COSTMedRELFMRPCT  COSTMedRELFMRCAT  \n",
       "count      64535.000000      64535.000000      64535.000000  \n",
       "mean           2.450376        115.830454          2.328922  \n",
       "std            3.276692         97.841114          0.726540  \n",
       "min           -9.000000          0.000000          1.000000  \n",
       "25%            2.000000         67.620731          2.000000  \n",
       "50%            4.000000         97.930142          2.000000  \n",
       "75%            4.000000        137.769350          3.000000  \n",
       "max            4.000000       1928.699349          3.000000  \n",
       "\n",
       "[8 rows x 67 columns]"
      ]
     },
     "execution_count": 6,
     "metadata": {},
     "output_type": "execute_result"
    }
   ],
   "source": [
    "df.describe()"
   ]
  },
  {
   "cell_type": "code",
   "execution_count": 7,
   "metadata": {},
   "outputs": [
    {
     "data": {
      "text/plain": [
       "Index(['CONTROL', 'AGE1', 'METRO3', 'REGION', 'LMED', 'FMR', 'L30', 'L50',\n",
       "       'L80', 'IPOV', 'BEDRMS', 'BUILT', 'STATUS', 'TYPE', 'VALUE', 'VACANCY',\n",
       "       'TENURE', 'NUNITS', 'ROOMS', 'WEIGHT', 'PER', 'ZINC2', 'ZADEQ', 'ZSMHC',\n",
       "       'STRUCTURETYPE', 'OWNRENT', 'UTILITY', 'OTHERCOST', 'COST06', 'COST12',\n",
       "       'COST08', 'COSTMED', 'TOTSAL', 'ASSISTED', 'GLMED', 'GL30', 'GL50',\n",
       "       'GL80', 'APLMED', 'ABL30', 'ABL50', 'ABL80', 'ABLMED', 'BURDEN',\n",
       "       'INCRELAMIPCT', 'INCRELAMICAT', 'INCRELPOVPCT', 'INCRELPOVCAT',\n",
       "       'INCRELFMRPCT', 'INCRELFMRCAT', 'COST06RELAMIPCT', 'COST06RELAMICAT',\n",
       "       'COST06RELPOVPCT', 'COST06RELPOVCAT', 'COST06RELFMRPCT',\n",
       "       'COST06RELFMRCAT', 'COST08RELAMIPCT', 'COST08RELAMICAT',\n",
       "       'COST08RELPOVPCT', 'COST08RELPOVCAT', 'COST08RELFMRPCT',\n",
       "       'COST08RELFMRCAT', 'COST12RELAMIPCT', 'COST12RELAMICAT',\n",
       "       'COST12RELPOVPCT', 'COST12RELPOVCAT', 'COST12RELFMRPCT',\n",
       "       'COST12RELFMRCAT', 'COSTMedRELAMIPCT', 'COSTMedRELAMICAT',\n",
       "       'COSTMedRELPOVPCT', 'COSTMedRELPOVCAT', 'COSTMedRELFMRPCT',\n",
       "       'COSTMedRELFMRCAT', 'FMTZADEQ', 'FMTMETRO3', 'FMTBUILT',\n",
       "       'FMTSTRUCTURETYPE', 'FMTBEDRMS', 'FMTOWNRENT', 'FMTCOST06RELPOVCAT',\n",
       "       'FMTCOST08RELPOVCAT', 'FMTCOST12RELPOVCAT', 'FMTCOSTMEDRELPOVCAT',\n",
       "       'FMTINCRELPOVCAT', 'FMTCOST06RELFMRCAT', 'FMTCOST08RELFMRCAT',\n",
       "       'FMTCOST12RELFMRCAT', 'FMTCOSTMEDRELFMRCAT', 'FMTINCRELFMRCAT',\n",
       "       'FMTCOST06RELAMICAT', 'FMTCOST08RELAMICAT', 'FMTCOST12RELAMICAT',\n",
       "       'FMTCOSTMEDRELAMICAT', 'FMTINCRELAMICAT', 'FMTASSISTED', 'FMTBURDEN',\n",
       "       'FMTREGION', 'FMTSTATUS'],\n",
       "      dtype='object')"
      ]
     },
     "execution_count": 7,
     "metadata": {},
     "output_type": "execute_result"
    }
   ],
   "source": [
    "df.columns"
   ]
  },
  {
   "cell_type": "code",
   "execution_count": 8,
   "metadata": {},
   "outputs": [],
   "source": [
    "region_stats = df.groupby('REGION')"
   ]
  },
  {
   "cell_type": "code",
   "execution_count": 9,
   "metadata": {},
   "outputs": [
    {
     "data": {
      "text/plain": [
       "REGION\n",
       "'1'    16519\n",
       "'2'    17400\n",
       "'3'    19260\n",
       "'4'    11356\n",
       "dtype: int64"
      ]
     },
     "execution_count": 9,
     "metadata": {},
     "output_type": "execute_result"
    }
   ],
   "source": [
    "region_stats.size()"
   ]
  },
  {
   "cell_type": "code",
   "execution_count": 10,
   "metadata": {},
   "outputs": [
    {
     "data": {
      "text/html": [
       "<div>\n",
       "<table border=\"1\" class=\"dataframe\">\n",
       "  <thead>\n",
       "    <tr style=\"text-align: right;\">\n",
       "      <th></th>\n",
       "      <th>ABL30</th>\n",
       "      <th>ABL50</th>\n",
       "      <th>ABL80</th>\n",
       "      <th>ABLMED</th>\n",
       "      <th>AGE1</th>\n",
       "      <th>APLMED</th>\n",
       "      <th>ASSISTED</th>\n",
       "      <th>BEDRMS</th>\n",
       "      <th>BUILT</th>\n",
       "      <th>BURDEN</th>\n",
       "      <th>...</th>\n",
       "      <th>TENURE</th>\n",
       "      <th>TOTSAL</th>\n",
       "      <th>TYPE</th>\n",
       "      <th>UTILITY</th>\n",
       "      <th>VACANCY</th>\n",
       "      <th>VALUE</th>\n",
       "      <th>WEIGHT</th>\n",
       "      <th>ZADEQ</th>\n",
       "      <th>ZINC2</th>\n",
       "      <th>ZSMHC</th>\n",
       "    </tr>\n",
       "    <tr>\n",
       "      <th>REGION</th>\n",
       "      <th></th>\n",
       "      <th></th>\n",
       "      <th></th>\n",
       "      <th></th>\n",
       "      <th></th>\n",
       "      <th></th>\n",
       "      <th></th>\n",
       "      <th></th>\n",
       "      <th></th>\n",
       "      <th></th>\n",
       "      <th></th>\n",
       "      <th></th>\n",
       "      <th></th>\n",
       "      <th></th>\n",
       "      <th></th>\n",
       "      <th></th>\n",
       "      <th></th>\n",
       "      <th></th>\n",
       "      <th></th>\n",
       "      <th></th>\n",
       "      <th></th>\n",
       "    </tr>\n",
       "  </thead>\n",
       "  <tbody>\n",
       "    <tr>\n",
       "      <th>'1'</th>\n",
       "      <td>True</td>\n",
       "      <td>True</td>\n",
       "      <td>True</td>\n",
       "      <td>True</td>\n",
       "      <td>True</td>\n",
       "      <td>True</td>\n",
       "      <td>False</td>\n",
       "      <td>False</td>\n",
       "      <td>True</td>\n",
       "      <td>False</td>\n",
       "      <td>...</td>\n",
       "      <td>True</td>\n",
       "      <td>False</td>\n",
       "      <td>True</td>\n",
       "      <td>False</td>\n",
       "      <td>True</td>\n",
       "      <td>True</td>\n",
       "      <td>False</td>\n",
       "      <td>True</td>\n",
       "      <td>False</td>\n",
       "      <td>False</td>\n",
       "    </tr>\n",
       "    <tr>\n",
       "      <th>'2'</th>\n",
       "      <td>True</td>\n",
       "      <td>True</td>\n",
       "      <td>True</td>\n",
       "      <td>True</td>\n",
       "      <td>True</td>\n",
       "      <td>True</td>\n",
       "      <td>False</td>\n",
       "      <td>False</td>\n",
       "      <td>True</td>\n",
       "      <td>False</td>\n",
       "      <td>...</td>\n",
       "      <td>True</td>\n",
       "      <td>False</td>\n",
       "      <td>True</td>\n",
       "      <td>False</td>\n",
       "      <td>True</td>\n",
       "      <td>True</td>\n",
       "      <td>False</td>\n",
       "      <td>True</td>\n",
       "      <td>True</td>\n",
       "      <td>False</td>\n",
       "    </tr>\n",
       "    <tr>\n",
       "      <th>'3'</th>\n",
       "      <td>True</td>\n",
       "      <td>True</td>\n",
       "      <td>True</td>\n",
       "      <td>True</td>\n",
       "      <td>True</td>\n",
       "      <td>True</td>\n",
       "      <td>False</td>\n",
       "      <td>False</td>\n",
       "      <td>True</td>\n",
       "      <td>False</td>\n",
       "      <td>...</td>\n",
       "      <td>True</td>\n",
       "      <td>False</td>\n",
       "      <td>True</td>\n",
       "      <td>False</td>\n",
       "      <td>True</td>\n",
       "      <td>True</td>\n",
       "      <td>False</td>\n",
       "      <td>True</td>\n",
       "      <td>False</td>\n",
       "      <td>False</td>\n",
       "    </tr>\n",
       "    <tr>\n",
       "      <th>'4'</th>\n",
       "      <td>True</td>\n",
       "      <td>True</td>\n",
       "      <td>True</td>\n",
       "      <td>True</td>\n",
       "      <td>True</td>\n",
       "      <td>True</td>\n",
       "      <td>False</td>\n",
       "      <td>False</td>\n",
       "      <td>True</td>\n",
       "      <td>False</td>\n",
       "      <td>...</td>\n",
       "      <td>True</td>\n",
       "      <td>False</td>\n",
       "      <td>True</td>\n",
       "      <td>False</td>\n",
       "      <td>True</td>\n",
       "      <td>True</td>\n",
       "      <td>False</td>\n",
       "      <td>True</td>\n",
       "      <td>True</td>\n",
       "      <td>False</td>\n",
       "    </tr>\n",
       "  </tbody>\n",
       "</table>\n",
       "<p>4 rows × 98 columns</p>\n",
       "</div>"
      ],
      "text/plain": [
       "       ABL30 ABL50 ABL80 ABLMED  AGE1 APLMED ASSISTED BEDRMS BUILT BURDEN  \\\n",
       "REGION                                                                      \n",
       "'1'     True  True  True   True  True   True    False  False  True  False   \n",
       "'2'     True  True  True   True  True   True    False  False  True  False   \n",
       "'3'     True  True  True   True  True   True    False  False  True  False   \n",
       "'4'     True  True  True   True  True   True    False  False  True  False   \n",
       "\n",
       "        ...   TENURE TOTSAL  TYPE UTILITY VACANCY VALUE WEIGHT ZADEQ  ZINC2  \\\n",
       "REGION  ...                                                                   \n",
       "'1'     ...     True  False  True   False    True  True  False  True  False   \n",
       "'2'     ...     True  False  True   False    True  True  False  True   True   \n",
       "'3'     ...     True  False  True   False    True  True  False  True  False   \n",
       "'4'     ...     True  False  True   False    True  True  False  True   True   \n",
       "\n",
       "        ZSMHC  \n",
       "REGION         \n",
       "'1'     False  \n",
       "'2'     False  \n",
       "'3'     False  \n",
       "'4'     False  \n",
       "\n",
       "[4 rows x 98 columns]"
      ]
     },
     "execution_count": 10,
     "metadata": {},
     "output_type": "execute_result"
    }
   ],
   "source": [
    "region_stats.all()"
   ]
  },
  {
   "cell_type": "code",
   "execution_count": 11,
   "metadata": {},
   "outputs": [
    {
     "data": {
      "text/plain": [
       "ASSISTED\n",
       "-9    40290\n",
       " 0    17627\n",
       " 1     6618\n",
       "dtype: int64"
      ]
     },
     "execution_count": 11,
     "metadata": {},
     "output_type": "execute_result"
    }
   ],
   "source": [
    "df.groupby('ASSISTED').size()"
   ]
  },
  {
   "cell_type": "code",
   "execution_count": 12,
   "metadata": {},
   "outputs": [
    {
     "data": {
      "text/plain": [
       "<matplotlib.text.Text at 0x272db0d45f8>"
      ]
     },
     "execution_count": 12,
     "metadata": {},
     "output_type": "execute_result"
    },
    {
     "data": {
      "image/png": "[encoded data removed]",
      "text/plain": [
       "<matplotlib.figure.Figure at 0x272cdd0db38>"
      ]
     },
     "metadata": {},
     "output_type": "display_data"
    }
   ],
   "source": [
    "for z in region_stats.groups:\n",
    "    plt.plot(region_stats.groups[z], label=z)\n",
    "plt.legend()\n",
    "plt.xlabel('Number of Properties')\n",
    "plt.ylabel('id')\n",
    "plt.grid(1)\n",
    "plt.title(\"Region Counts\")"
   ]
  },
  {
   "cell_type": "code",
   "execution_count": 13,
   "metadata": {},
   "outputs": [],
   "source": [
    "from pandas.tools import plotting "
   ]
  },
  {
   "cell_type": "code",
   "execution_count": 14,
   "metadata": {},
   "outputs": [],
   "source": [
    "%matplotlib inline"
   ]
  },
  {
   "cell_type": "code",
   "execution_count": 15,
   "metadata": {},
   "outputs": [
    {
     "data": {
      "text/plain": [
       "REGION\n",
       "'1'    Axes(0.125,0.125;0.775x0.755)\n",
       "'2'    Axes(0.125,0.125;0.775x0.755)\n",
       "'3'    Axes(0.125,0.125;0.775x0.755)\n",
       "'4'    Axes(0.125,0.125;0.775x0.755)\n",
       "Name: VALUE, dtype: object"
      ]
     },
     "execution_count": 15,
     "metadata": {},
     "output_type": "execute_result"
    },
    {
     "data": {
      "image/png": "[encoded data removed]",
      "text/plain": [
       "<matplotlib.figure.Figure at 0x272c4efa8d0>"
      ]
     },
     "metadata": {},
     "output_type": "display_data"
    }
   ],
   "source": [
    "#plotting.scatter_matrix\n",
    "#df.where\n",
    "region_stats['VALUE'].hist()"
   ]
  },
  {
   "cell_type": "code",
   "execution_count": 16,
   "metadata": {},
   "outputs": [
    {
     "data": {
      "text/plain": [
       "9166086215"
      ]
     },
     "execution_count": 16,
     "metadata": {},
     "output_type": "execute_result"
    }
   ],
   "source": [
    "df['VALUE'].cumsum().max()"
   ]
  },
  {
   "cell_type": "code",
   "execution_count": 17,
   "metadata": {},
   "outputs": [
    {
     "data": {
      "text/plain": [
       "REGION       \n",
       "'1'     count      16519\n",
       "        mean      178367\n",
       "        std       292372\n",
       "        min           -6\n",
       "        25%           -6\n",
       "        50%        80000\n",
       "        75%       280000\n",
       "        max      2520000\n",
       "'2'     count      17400\n",
       "        mean      107695\n",
       "        std       167014\n",
       "        min           -6\n",
       "        25%           -6\n",
       "        50%        70000\n",
       "        75%       160000\n",
       "        max      2520000\n",
       "'3'     count      19260\n",
       "        mean      115323\n",
       "        std       200759\n",
       "        min           -6\n",
       "        25%           -6\n",
       "        50%        60000\n",
       "        75%       160000\n",
       "        max      2520000\n",
       "'4'     count      11356\n",
       "        mean      187091\n",
       "        std       331711\n",
       "        min           -6\n",
       "        25%           -6\n",
       "        50%        40000\n",
       "        75%       260000\n",
       "        max      2520000\n",
       "Name: VALUE, dtype: int32"
      ]
     },
     "execution_count": 17,
     "metadata": {},
     "output_type": "execute_result"
    }
   ],
   "source": [
    "region_stats.describe()['VALUE'].astype(int)"
   ]
  },
  {
   "cell_type": "code",
   "execution_count": 18,
   "metadata": {},
   "outputs": [
    {
     "data": {
      "text/html": [
       "<div>\n",
       "<table border=\"1\" class=\"dataframe\">\n",
       "  <thead>\n",
       "    <tr style=\"text-align: right;\">\n",
       "      <th></th>\n",
       "      <th>count</th>\n",
       "      <th>mean</th>\n",
       "      <th>std</th>\n",
       "      <th>min</th>\n",
       "      <th>25%</th>\n",
       "      <th>50%</th>\n",
       "      <th>75%</th>\n",
       "      <th>max</th>\n",
       "    </tr>\n",
       "  </thead>\n",
       "  <tbody>\n",
       "    <tr>\n",
       "      <th>VALUE</th>\n",
       "      <td>16519</td>\n",
       "      <td>178367</td>\n",
       "      <td>292372</td>\n",
       "      <td>-6</td>\n",
       "      <td>-6</td>\n",
       "      <td>80000</td>\n",
       "      <td>280000</td>\n",
       "      <td>2520000</td>\n",
       "    </tr>\n",
       "  </tbody>\n",
       "</table>\n",
       "</div>"
      ],
      "text/plain": [
       "       count    mean     std  min  25%    50%     75%      max\n",
       "VALUE  16519  178367  292372   -6   -6  80000  280000  2520000"
      ]
     },
     "execution_count": 18,
     "metadata": {},
     "output_type": "execute_result"
    }
   ],
   "source": [
    "pd.DataFrame(region_stats.describe()['VALUE'].astype(int)).T[\"'1'\"]"
   ]
  },
  {
   "cell_type": "code",
   "execution_count": 19,
   "metadata": {},
   "outputs": [
    {
     "data": {
      "text/plain": [
       "<matplotlib.axes._subplots.AxesSubplot at 0x272cfef6f98>"
      ]
     },
     "execution_count": 19,
     "metadata": {},
     "output_type": "execute_result"
    },
    {
     "data": {
      "image/png": "[encoded data removed]",
      "text/plain": [
       "<matplotlib.figure.Figure at 0x272cfea4240>"
      ]
     },
     "metadata": {},
     "output_type": "display_data"
    }
   ],
   "source": [
    "pd.DataFrame(region_stats.describe()['VALUE'].astype(int)).T[\"'1'\"].plot.bar()"
   ]
  },
  {
   "cell_type": "code",
   "execution_count": 20,
   "metadata": {},
   "outputs": [
    {
     "data": {
      "text/plain": [
       "Int64Index([    0,    17,    47,    48,    49,    68,    69,    90,    91,\n",
       "               94,\n",
       "            ...\n",
       "            64509, 64510, 64511, 64512, 64513, 64514, 64515, 64516, 64522,\n",
       "            64529],\n",
       "           dtype='int64', length=16519)"
      ]
     },
     "execution_count": 20,
     "metadata": {},
     "output_type": "execute_result"
    }
   ],
   "source": [
    "region_stats.groups[\"'1'\"]"
   ]
  },
  {
   "cell_type": "code",
   "execution_count": 21,
   "metadata": {},
   "outputs": [],
   "source": [
    "region_value = {}\n",
    "for x in [\"'1'\",\"'2'\",\"'3'\",\"'4'\"]:\n",
    "    region_value[x] = df.T[region_stats.groups[x]].T['VALUE'].cumsum().max()"
   ]
  },
  {
   "cell_type": "code",
   "execution_count": 22,
   "metadata": {},
   "outputs": [
    {
     "name": "stdout",
     "output_type": "stream",
     "text": [
      "Region: '2' Value: 1873910190\n",
      "Region: '4' Value: 2124607998\n",
      "Region: '3' Value: 2221122543\n",
      "Region: '1' Value: 2946445586\n"
     ]
    },
    {
     "data": {
      "image/png": "[encoded data removed]",
      "text/plain": [
       "<matplotlib.figure.Figure at 0x272cff69c88>"
      ]
     },
     "metadata": {},
     "output_type": "display_data"
    }
   ],
   "source": [
    "pd.DataFrame.from_dict(region_value, orient='index').plot.pie(y=0, \n",
    "                                                              explode=[0,0,0,0.1], \n",
    "                                                              labels=list(region_value.keys()),\n",
    "                                                             autopct='%1.25f%%')\n",
    "for region in region_value:\n",
    "    print('Region: {}'.format(region),'Value: {}'.format(region_value[region]))"
   ]
  },
  {
   "cell_type": "code",
   "execution_count": 23,
   "metadata": {},
   "outputs": [],
   "source": [
    "value_set = list(df['VALUE'][:365].astype(int))\n",
    "rng = pd.date_range('1/1/2013', periods=len(value_set), freq='h')\n",
    "test_series = pd.Series(value_set, index=rng)"
   ]
  },
  {
   "cell_type": "code",
   "execution_count": 25,
   "metadata": {},
   "outputs": [
    {
     "data": {
      "text/plain": [
       "(365, 365)"
      ]
     },
     "execution_count": 25,
     "metadata": {},
     "output_type": "execute_result"
    }
   ],
   "source": [
    "len(value_set), len(rng)"
   ]
  },
  {
   "cell_type": "code",
   "execution_count": 26,
   "metadata": {},
   "outputs": [
    {
     "data": {
      "image/png": "[encoded data removed]",
      "text/plain": [
       "<matplotlib.figure.Figure at 0x272c01bd208>"
      ]
     },
     "execution_count": 26,
     "metadata": {},
     "output_type": "execute_result"
    },
    {
     "data": {
      "image/png": "[encoded data removed]",
      "text/plain": [
       "<matplotlib.figure.Figure at 0x272c01bd208>"
      ]
     },
     "metadata": {},
     "output_type": "display_data"
    }
   ],
   "source": [
    "plotting.bootstrap_plot(test_series)"
   ]
  },
  {
   "cell_type": "code",
   "execution_count": 27,
   "metadata": {},
   "outputs": [],
   "source": [
    "test_df = df[:100]"
   ]
  },
  {
   "cell_type": "code",
   "execution_count": 28,
   "metadata": {},
   "outputs": [
    {
     "data": {
      "text/plain": [
       "array([[<matplotlib.axes._subplots.AxesSubplot object at 0x0000027280169940>,\n",
       "        <matplotlib.axes._subplots.AxesSubplot object at 0x00000272CFEDE940>],\n",
       "       [<matplotlib.axes._subplots.AxesSubplot object at 0x0000027280CADF28>,\n",
       "        <matplotlib.axes._subplots.AxesSubplot object at 0x0000027280193BA8>]], dtype=object)"
      ]
     },
     "execution_count": 28,
     "metadata": {},
     "output_type": "execute_result"
    },
    {
     "data": {
      "image/png": "[encoded data removed]",
      "text/plain": [
       "<matplotlib.figure.Figure at 0x2728004b048>"
      ]
     },
     "metadata": {},
     "output_type": "display_data"
    }
   ],
   "source": [
    "plotting.grouped_hist(df, column='UTILITY', by='REGION')"
   ]
  },
  {
   "cell_type": "code",
   "execution_count": 29,
   "metadata": {},
   "outputs": [
    {
     "data": {
      "text/plain": [
       "array([[<matplotlib.axes._subplots.AxesSubplot object at 0x000002728020B940>,\n",
       "        <matplotlib.axes._subplots.AxesSubplot object at 0x00000272805B0E80>],\n",
       "       [<matplotlib.axes._subplots.AxesSubplot object at 0x00000272805D3DA0>,\n",
       "        <matplotlib.axes._subplots.AxesSubplot object at 0x000002728063AFD0>]], dtype=object)"
      ]
     },
     "execution_count": 29,
     "metadata": {},
     "output_type": "execute_result"
    },
    {
     "data": {
      "image/png": "[encoded data removed]",
      "text/plain": [
       "<matplotlib.figure.Figure at 0x27280132630>"
      ]
     },
     "metadata": {},
     "output_type": "display_data"
    }
   ],
   "source": [
    "plotting.grouped_hist(df, column='LMED', by='REGION', figsize=(8,8), bins=256, grid=True)"
   ]
  },
  {
   "cell_type": "code",
   "execution_count": 33,
   "metadata": {},
   "outputs": [],
   "source": [
    "plotting.plot_series?"
   ]
  },
  {
   "cell_type": "code",
   "execution_count": 35,
   "metadata": {},
   "outputs": [
    {
     "data": {
      "text/plain": [
       "<matplotlib.axes._subplots.AxesSubplot at 0x27283095c88>"
      ]
     },
     "execution_count": 35,
     "metadata": {},
     "output_type": "execute_result"
    },
    {
     "data": {
      "image/png": "[encoded data removed]",
      "text/plain": [
       "<matplotlib.figure.Figure at 0x27282e2fc88>"
      ]
     },
     "metadata": {},
     "output_type": "display_data"
    }
   ],
   "source": [
    "plotting.plot_series(test_series[:10], kind='barh', xticks=None)"
   ]
  },
  {
   "cell_type": "code",
   "execution_count": 31,
   "metadata": {},
   "outputs": [
    {
     "data": {
      "text/plain": [
       "<matplotlib.axes._subplots.AxesSubplot at 0x27280f21438>"
      ]
     },
     "execution_count": 31,
     "metadata": {},
     "output_type": "execute_result"
    },
    {
     "data": {
      "image/png": "[encoded data removed]",
      "text/plain": [
       "<matplotlib.figure.Figure at 0x2728179c5c0>"
      ]
     },
     "metadata": {},
     "output_type": "display_data"
    }
   ],
   "source": [
    "plotting.plot_series(test_series, kind='kde')"
   ]
  },
  {
   "cell_type": "code",
   "execution_count": 37,
   "metadata": {},
   "outputs": [
    {
     "name": "stdout",
     "output_type": "stream",
     "text": [
      "Object `plt.plot.area` not found.\n"
     ]
    }
   ],
   "source": [
    "plt.Ar"
   ]
  },
  {
   "cell_type": "code",
   "execution_count": 47,
   "metadata": {},
   "outputs": [],
   "source": [
    "test_series.replace(-6, 0, inplace=True)"
   ]
  },
  {
   "cell_type": "code",
   "execution_count": 50,
   "metadata": {},
   "outputs": [
    {
     "data": {
      "text/plain": [
       "0"
      ]
     },
     "execution_count": 50,
     "metadata": {},
     "output_type": "execute_result"
    }
   ],
   "source": [
    "test_series.min()"
   ]
  },
  {
   "cell_type": "code",
   "execution_count": 52,
   "metadata": {},
   "outputs": [
    {
     "data": {
      "text/plain": [
       "2013-01-01 00:00:00     40000\n",
       "2013-01-01 01:00:00    130000\n",
       "2013-01-01 02:00:00    150000\n",
       "2013-01-01 03:00:00    200000\n",
       "2013-01-01 04:00:00         0\n",
       "2013-01-01 05:00:00         0\n",
       "2013-01-01 06:00:00    260000\n",
       "2013-01-01 07:00:00         0\n",
       "2013-01-01 08:00:00    170000\n",
       "2013-01-01 09:00:00         0\n",
       "Freq: H, dtype: int64"
      ]
     },
     "execution_count": 52,
     "metadata": {},
     "output_type": "execute_result"
    }
   ],
   "source": [
    "test_series[:10]"
   ]
  },
  {
   "cell_type": "code",
   "execution_count": 54,
   "metadata": {},
   "outputs": [],
   "source": [
    "df.replace(-6,0, inplace=True)"
   ]
  },
  {
   "cell_type": "code",
   "execution_count": 57,
   "metadata": {},
   "outputs": [
    {
     "data": {
      "text/plain": [
       "0"
      ]
     },
     "execution_count": 57,
     "metadata": {},
     "output_type": "execute_result"
    }
   ],
   "source": [
    "df['VALUE'].min()"
   ]
  },
  {
   "cell_type": "code",
   "execution_count": 64,
   "metadata": {},
   "outputs": [],
   "source": [
    "plotting.plot_series?"
   ]
  },
  {
   "cell_type": "code",
   "execution_count": 68,
   "metadata": {},
   "outputs": [],
   "source": [
    "area_plot_df = df[['UTILITY', 'FMR']]"
   ]
  },
  {
   "cell_type": "code",
   "execution_count": 69,
   "metadata": {},
   "outputs": [
    {
     "data": {
      "text/plain": [
       "<matplotlib.axes._subplots.AxesSubplot at 0x272898835c0>"
      ]
     },
     "execution_count": 69,
     "metadata": {},
     "output_type": "execute_result"
    },
    {
     "data": {
      "image/png": "[encoded data removed]",
      "text/plain": [
       "<matplotlib.figure.Figure at 0x2728a879ef0>"
      ]
     },
     "metadata": {},
     "output_type": "display_data"
    }
   ],
   "source": [
    "area_plot_df.plot.area()"
   ]
  },
  {
   "cell_type": "code",
   "execution_count": 70,
   "metadata": {},
   "outputs": [
    {
     "data": {
      "text/plain": [
       "<matplotlib.axes._subplots.AxesSubplot at 0x2728a352358>"
      ]
     },
     "execution_count": 70,
     "metadata": {},
     "output_type": "execute_result"
    },
    {
     "data": {
      "image/png": "[encoded data removed]",
      "text/plain": [
       "<matplotlib.figure.Figure at 0x272899c8588>"
      ]
     },
     "metadata": {},
     "output_type": "display_data"
    }
   ],
   "source": [
    "area_plot_df[:100].plot.area()"
   ]
  },
  {
   "cell_type": "code",
   "execution_count": null,
   "metadata": {},
   "outputs": [],
   "source": []
  }
 ],
 "metadata": {
  "kernelspec": {
   "display_name": "Python 3",
   "language": "python",
   "name": "python3"
  },
  "language_info": {
   "codemirror_mode": {
    "name": "ipython",
    "version": 3
   },
   "file_extension": ".py",
   "mimetype": "text/x-python",
   "name": "python",
   "nbconvert_exporter": "python",
   "pygments_lexer": "ipython3",
   "version": "3.5.3"
  }
 },
 "nbformat": 4,
 "nbformat_minor": 2
}
